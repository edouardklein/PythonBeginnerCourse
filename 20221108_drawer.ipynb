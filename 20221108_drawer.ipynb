{
 "cells": [
  {
   "cell_type": "code",
   "execution_count": 1,
   "id": "10381af9",
   "metadata": {},
   "outputs": [
    {
     "name": "stdout",
     "output_type": "stream",
     "text": [
      "16\n",
      "6,16\n",
      "6,8\n",
      "6,10\n",
      "6,9\n",
      "8,16\n",
      "10,16\n",
      "9,16\n",
      "8,8\n",
      "8,10\n",
      "8,9\n",
      "10,10\n",
      "9,10\n",
      "9,9\n",
      "6,6,6\n",
      "6,6,16\n",
      "6,6,8\n",
      "6,6,10\n",
      "6,6,9\n",
      "6,8,16\n",
      "6,8,8\n",
      "6,8,10\n",
      "6,8,9\n",
      "6,10,10\n",
      "6,9,10\n",
      "6,9,9\n",
      "8,8,8\n",
      "8,8,10\n",
      "8,8,9\n",
      "8,10,10\n",
      "8,9,10\n",
      "8,9,9\n",
      "10,10,10\n",
      "9,10,10\n",
      "9,9,10\n",
      "9,9,9\n",
      "6,6,6,6\n",
      "6,6,6,8\n",
      "6,6,6,10\n",
      "6,6,6,9\n",
      "6,6,8,8\n",
      "6,6,8,10\n",
      "6,6,8,9\n",
      "6,6,9,9\n",
      "6,8,8,8\n",
      "6,6,6,6,6\n"
     ]
    }
   ],
   "source": [
    "import itertools\n",
    "drawers = [6, 16, 8, 10, 9]\n",
    "total_height = 30\n",
    "leeway = 16\n",
    "for nb in range(1000):\n",
    "    if nb*min(drawers) > total_height:\n",
    "        break\n",
    "    for combination in itertools.combinations_with_replacement(drawers, nb):\n",
    "        if total_height - leeway <= sum(combination) <= total_height:\n",
    "            print(\",\".join(map(str, sorted(combination))))"
   ]
  },
  {
   "cell_type": "code",
   "execution_count": null,
   "id": "3a4485ba",
   "metadata": {},
   "outputs": [],
   "source": []
  }
 ],
 "metadata": {
  "kernelspec": {
   "display_name": "Python 3 (ipykernel)",
   "language": "/gnu/store/qar3sks5fwzm91bl3d3ngyrvxs7ipj5z-python-3.9.9/bin/python3",
   "name": "python3"
  },
  "language_info": {
   "codemirror_mode": {
    "name": "ipython",
    "version": 3
   },
   "file_extension": ".py",
   "mimetype": "text/x-python",
   "name": "python",
   "nbconvert_exporter": "python",
   "pygments_lexer": "ipython3",
   "version": "3.9.9"
  }
 },
 "nbformat": 4,
 "nbformat_minor": 5
}
