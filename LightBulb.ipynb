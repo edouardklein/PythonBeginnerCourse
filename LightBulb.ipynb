{
 "cells": [
  {
   "cell_type": "code",
   "execution_count": null,
   "metadata": {},
   "outputs": [],
   "source": [
    "from ortools.sat.python import cp_model\n",
    "# Derived from https://stackoverflow.com/questions/58934609/obtain-list-of-sat-solutions-from-ortools\n",
    "class VarArraySolutionCollector(cp_model.CpSolverSolutionCallback):\n",
    "    def __init__(self, variables):\n",
    "        cp_model.CpSolverSolutionCallback.__init__(self)\n",
    "        self.__variables = variables\n",
    "        self.solution_list = []\n",
    "\n",
    "    def on_solution_callback(self):\n",
    "        self.solution_list.append([self.Value(v) for v in self.__variables])\n",
    "    \n",
    "    def __repr__(self):\n",
    "      print(f\"There are {len(self.solution_list)} solutions of {len(self.__variables)} variables.\")\n",
    "      true = []\n",
    "      false = []\n",
    "      undecided = []\n",
    "      for i, v in enumerate(self.__variables):\n",
    "        values = set(l[i] for l in self.solution_list)\n",
    "        if values == {1}:\n",
    "          true += [f'{v}']\n",
    "        elif values == {0}:\n",
    "          false += [f'{v}']\n",
    "        elif values == {0, 1}:\n",
    "          undecided += [f'{v}']\n",
    "        else:\n",
    "          raise ValueError(f\"WTF {v} {values}\")\n",
    "      answer =  f'*****************\\nTrue statements ({len(true)}): \\n'\n",
    "      answer += '\\n'.join(true)+'\\n'\n",
    "      answer += f'*****************\\nUndecided statements ({len(undecided)}): \\n'\n",
    "      answer += '\\n'.join(undecided)+'\\n'\n",
    "      answer += f'*****************\\nFalse statements ({len(false)}): \\n'\n",
    "      answer += '\\n'.join(false)+'\\n'\n",
    "      return answer\n"
   ]
  },
  {
   "cell_type": "code",
   "execution_count": null,
   "metadata": {},
   "outputs": [],
   "source": [
    "model = cp_model.CpModel()\n",
    "wire = model.NewBoolVar(\"The wire is plugged\")\n",
    "switch = model.NewBoolVar(\"The switch is closed\")\n",
    "bulb = model.NewBoolVar(\"The bulb is on\")\n",
    "model.AddImplication(wire and switch, bulb)\n",
    "model.Add(wire == 0)\n",
    "model.Add(switch == 1)\n",
    "\n",
    "solver = cp_model.CpSolver()\n",
    "solution_collector = VarArraySolutionCollector([wire, switch, bulb])\n",
    "solver.SearchForAllSolutions(model, solution_collector)\n",
    "print(solution_collector)"
   ]
  }
 ],
 "metadata": {
  "kernelspec": {
   "display_name": "Python 3",
   "language": "/gnu/store/bvd09gb8ka642jzgxd2lpqlpdp160gn0-python-wrapper-3.8.2/bin/python",
   "name": "python3"
  },
  "language_info": {
   "codemirror_mode": {
    "name": "ipython",
    "version": 3
   },
   "file_extension": ".py",
   "mimetype": "text/x-python",
   "name": "python",
   "nbconvert_exporter": "python",
   "pygments_lexer": "ipython3",
   "version": "3.8.2"
  }
 },
 "nbformat": 4,
 "nbformat_minor": 2
}
