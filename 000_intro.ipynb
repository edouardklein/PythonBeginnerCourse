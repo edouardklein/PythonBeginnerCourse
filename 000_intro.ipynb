{
 "cells": [
  {
   "cell_type": "markdown",
   "metadata": {},
   "source": [
    "# Python beginner course\n",
    "## Course goals\n",
    "* Get a bird's eye view of programming\n",
    "* Know Python's syntax\n",
    "* Undertand where to find reliable information online\n",
    "* Learn to copy paste and adapt code snippets\n",
    "* Understand the basics of data analysis\n",
    "* Understand the basics of data visualization\n",
    "* Use Python to run a basic analysis on a dataset\n",
    "\n",
    "## Course evaluation\n",
    "On oct. 26 for group C1 and on nov. 9 for group C2, you'll spend 6 hours in the same room, working on a notebook such as this one, with a series of increasingly difficult problems to solve with Python, using what has been done in class before.\n",
    "\n",
    "The problems are such that a competent Python programmer will solve them in 30 minutes or less.\n",
    "\n",
    "Remote students on different timezones will start after the students living in the Europe/Paris timezone.\n",
    "\n",
    "Your answers will be automatically checked by a server and grading will be automatic.\n",
    "## Resources\n",
    "* The 'textbook' https://diveintopython3.problemsolving.io/table-of-contents.html\n",
    "* Find answers: https://stackoverflow.com/questions/tagged/python\n",
    "* Quick ref: https://learnxinyminutes.com/docs/python/\n",
    "* Official documentation: https://docs.python.org/3/\n",
    "* Rosetta Code: https://rosettacode.org/wiki/Category:Python\n",
    "\n",
    "## Introduction to programming: the guessing game\n",
    "### Let's play together\n",
    "* The first player, the *knower*, selects a random number between 1 and 100.\n",
    "* Until the second player, the *guesser*, has guessed correctly,\n",
    "    * The *guesser* tells the *knower* a number\n",
    "    * The *knower* tells the *guesser* if the number was too high, too low, or correct\n",
    "\n",
    "### Guess the computer's number"
   ]
  },
  {
   "cell_type": "code",
   "execution_count": 3,
   "metadata": {},
   "outputs": [],
   "source": [
    "import random"
   ]
  },
  {
   "cell_type": "code",
   "execution_count": 3,
   "metadata": {},
   "outputs": [],
   "source": [
    "secret_number = random.randint(1, 100)"
   ]
  },
  {
   "cell_type": "code",
   "execution_count": 10,
   "metadata": {},
   "outputs": [
    {
     "name": "stdout",
     "output_type": "stream",
     "text": [
      "18\n",
      "x==18\n"
     ]
    }
   ],
   "source": [
    "guess = int(input())\n",
    "if secret_number < guess:\n",
    "    print(f'x<{guess}')\n",
    "elif secret_number > guess:\n",
    "    print(f'x>{guess}')\n",
    "else:\n",
    "    print(f'x=={guess}')"
   ]
  },
  {
   "cell_type": "markdown",
   "metadata": {},
   "source": [
    "### Now in a loop"
   ]
  },
  {
   "cell_type": "code",
   "execution_count": 11,
   "metadata": {},
   "outputs": [
    {
     "name": "stdout",
     "output_type": "stream",
     "text": [
      "This is try number 1\n",
      "50\n",
      "x<50\n",
      "This is try number 2\n",
      "25\n",
      "x<25\n",
      "This is try number 3\n",
      "19\n",
      "x<19\n",
      "This is try number 4\n",
      "18\n",
      "x==18\n"
     ]
    }
   ],
   "source": [
    "MAX_TRIES=10\n",
    "for i in range(MAX_TRIES):\n",
    "    print(f\"This is try number {i+1}\")\n",
    "    guess = int(input())\n",
    "    if secret_number < guess:\n",
    "        print(f'x<{guess}')\n",
    "    elif secret_number > guess:\n",
    "        print(f'x>{guess}')\n",
    "    else:\n",
    "        print(f'x=={guess}')\n",
    "        break"
   ]
  },
  {
   "cell_type": "markdown",
   "metadata": {},
   "source": [
    "### Summary of course 1:\n",
    "* We began to use Google's colab notebooks to run Python code online,\n",
    "* We saw how to google for information when confronted with an error message or out of ideas on what to try\n",
    "* We discovered the basics of Python syntax (expressions and statements, if, elif, else, for loops, blocks and break)\n",
    "* We read https://docs.python.org/3/tutorial/index.html chapters 1, 2, 3, 4 up to 4.4\n",
    "\n",
    "### Functions"
   ]
  },
  {
   "cell_type": "code",
   "execution_count": 2,
   "metadata": {},
   "outputs": [
    {
     "name": "stdout",
     "output_type": "stream",
     "text": [
      "x<2\n",
      "x>1\n",
      "x==1\n"
     ]
    }
   ],
   "source": [
    "def computer_knower(s, g):\n",
    "    \"\"\"Return the feedback to give the user when the secret is s and the guess is g\"\"\"\n",
    "    if s < g:\n",
    "        return f'x<{g}'\n",
    "    elif s > g:\n",
    "        return f'x>{g}'\n",
    "    else:\n",
    "        return f'x=={g}'\n",
    "\n",
    "print(computer_knower(1, 2))\n",
    "print(computer_knower(2, 1))\n",
    "print(computer_knower(1, 1))"
   ]
  },
  {
   "cell_type": "code",
   "execution_count": 5,
   "metadata": {},
   "outputs": [
    {
     "name": "stdout",
     "output_type": "stream",
     "text": [
      "This is try number 1\n",
      "50\n",
      "x<50\n",
      "This is try number 2\n",
      "25\n",
      "x>25\n",
      "This is try number 3\n",
      "37\n",
      "x>37\n",
      "This is try number 4\n",
      "43\n",
      "x>43\n",
      "This is try number 5\n",
      "45\n",
      "x>45\n",
      "This is try number 6\n",
      "47\n",
      "x==47\n"
     ]
    }
   ],
   "source": [
    "# This is the most straighforward way\n",
    "MAX_TRIES=10\n",
    "secret_number = random.randint(1, 100)\n",
    "\n",
    "for i in range(MAX_TRIES):\n",
    "    print(f\"This is try number {i+1}\")\n",
    "    guess = int(input())\n",
    "    feedback = computer_knower(secret_number, guess)\n",
    "    print(feedback)\n",
    "    if '==' in feedback:\n",
    "        break"
   ]
  },
  {
   "cell_type": "code",
   "execution_count": 7,
   "metadata": {},
   "outputs": [
    {
     "name": "stdout",
     "output_type": "stream",
     "text": [
      "50\n",
      "x<50\n",
      "25\n",
      "x<25\n",
      "12\n",
      "x<12\n",
      "6\n",
      "x<6\n",
      "3\n",
      "x>3\n",
      "4\n",
      "x==4\n"
     ]
    }
   ],
   "source": [
    "# This is playing with Python just to be able to do an empty while loop\n",
    "def printed(f):\n",
    "    \"\"\"A decorator that prints the return value of the decorated function\"\"\"\n",
    "    def decorated(*args):\n",
    "        answer = f(*args)\n",
    "        print(answer)\n",
    "        return answer\n",
    "    return decorated\n",
    "    \n",
    "@printed\n",
    "def computer_knower(s, g):\n",
    "    \"\"\"Return the feedback to give the user when the secret is s and the guess is g\"\"\"\n",
    "    if s < g:\n",
    "        return f'x<{g}'\n",
    "    elif s > g:\n",
    "        return f'x>{g}'\n",
    "    else:\n",
    "        return f'x=={g}'\n",
    "\n",
    "secret_number = random.randint(1, 100)\n",
    "while '==' not in computer_knower(secret_number, int(input())):\n",
    "    pass"
   ]
  },
  {
   "cell_type": "markdown",
   "metadata": {},
   "source": [
    "## Summary of course 2\n",
    "* To use function you need to care about **what** they do\n",
    "* You don't need to care about **how** they do it\n",
    "* You can understand what they do by reading the docstring\n",
    "* Or trying to call them with various arguments\n",
    "* When writing functions always write a docstring\n",
    "* Functions should only depend on their arguments (no global variables)\n",
    "* and write a few calls, predicting the expected behavior\n",
    "* A bug is a difference in the expected behavior and the actual behavior\n",
    "* Writing short, aptly named, correctly documented functions will make finding and correcting bugs easier (but it's never easy)"
   ]
  },
  {
   "cell_type": "code",
   "execution_count": null,
   "metadata": {},
   "outputs": [],
   "source": [
    "def human_knower(g):\n",
    "    \"\"\"Prompt a human for feedback for the guess g\"\"\"\n",
    "    # Your code here"
   ]
  },
  {
   "cell_type": "code",
   "execution_count": 12,
   "metadata": {},
   "outputs": [],
   "source": [
    "def human_guesser(feedback):\n",
    "    \"\"\"Prompt a human for a guess, displaying the given feedback first\"\"\"\n",
    "    # Your code here"
   ]
  },
  {
   "cell_type": "code",
   "execution_count": null,
   "metadata": {},
   "outputs": [],
   "source": [
    "def guessing_game(max_tries=10, knower_func, guess_func):\n",
    "    \"\"\"Run a game between the given guesser and knower and return the name of the winner.\n",
    "    \n",
    "    knower_func must take only one argument: the guess.\n",
    "    \n",
    "    guesser_func should take only one argument, a list of strings of the form e.g. 'x<50', 'x>25', 'x==32'.\"\"\"\n",
    "    # your code here"
   ]
  },
  {
   "cell_type": "markdown",
   "metadata": {},
   "source": [
    "### Now the computer will guess the number\n",
    "#### Brute force"
   ]
  },
  {
   "cell_type": "code",
   "execution_count": 6,
   "metadata": {},
   "outputs": [],
   "source": [
    "# If it's stupid and it works, it ain't stupid"
   ]
  },
  {
   "cell_type": "markdown",
   "metadata": {},
   "source": [
    "#### Divide and conquer"
   ]
  },
  {
   "cell_type": "code",
   "execution_count": null,
   "metadata": {},
   "outputs": [],
   "source": [
    "# Try to be clever"
   ]
  }
 ],
 "metadata": {
  "kernelspec": {
   "display_name": "Python 3",
   "language": "python",
   "name": "python3"
  },
  "language_info": {
   "codemirror_mode": {
    "name": "ipython",
    "version": 3
   },
   "file_extension": ".py",
   "mimetype": "text/x-python",
   "name": "python",
   "nbconvert_exporter": "python",
   "pygments_lexer": "ipython3",
   "version": "3.8.5"
  }
 },
 "nbformat": 4,
 "nbformat_minor": 4
}
