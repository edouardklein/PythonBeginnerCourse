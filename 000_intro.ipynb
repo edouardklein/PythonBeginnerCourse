{
 "cells": [
  {
   "cell_type": "markdown",
   "metadata": {},
   "source": [
    "# Python beginner course\n",
    "## Course goals\n",
    "* Get a bird's eye view of programming\n",
    "* Know Python's syntax\n",
    "* Undertand where to find reliable information online\n",
    "* Learn to copy paste and adapt code snippets\n",
    "* Understand the basics of data analysis\n",
    "* Understand the basics of data visualization\n",
    "* Use Python to run a basic analysis on a dataset\n",
    "\n",
    "## Course evaluation\n",
    "On oct. 26 for group C1 and on nov. 9 for group C2, you'll spend 6 hours in the same room, working on a notebook such as this one, with a series of increasingly difficult problems to solve with Python, using what has been done in class before.\n",
    "\n",
    "The problems are such that a competent Python programmer will solve them in 30 minutes or less.\n",
    "\n",
    "Remote students on different timezones will start after the students living in the Europe/Paris timezone.\n",
    "\n",
    "Your answers will be automatically checked by a server and grading will be automatic.\n",
    "## Resources\n",
    "* The 'textbook' https://diveintopython3.problemsolving.io/table-of-contents.html\n",
    "* Find answers: https://stackoverflow.com/questions/tagged/python\n",
    "* Quick ref: https://learnxinyminutes.com/docs/python/\n",
    "* Official documentation: https://docs.python.org/3/\n",
    "* \n",
    "\n",
    "## Introduction to programming: the guessing game\n",
    "### Let's play together\n",
    ".\n",
    "### Guess the computer's number"
   ]
  },
  {
   "cell_type": "code",
   "execution_count": 1,
   "metadata": {},
   "outputs": [],
   "source": [
    "import random"
   ]
  },
  {
   "cell_type": "code",
   "execution_count": 2,
   "metadata": {},
   "outputs": [],
   "source": [
    "secret_number = random.randint(1, 100)"
   ]
  },
  {
   "cell_type": "code",
   "execution_count": 3,
   "metadata": {},
   "outputs": [],
   "source": [
    "guess = int(input())\n",
    "# Your code here\n"
   ]
  },
  {
   "cell_type": "markdown",
   "metadata": {},
   "source": [
    "### Now in a loop"
   ]
  },
  {
   "cell_type": "code",
   "execution_count": null,
   "metadata": {},
   "outputs": [],
   "source": []
  },
  {
   "cell_type": "markdown",
   "metadata": {},
   "source": [
    "### Now in a function"
   ]
  },
  {
   "cell_type": "code",
   "execution_count": 5,
   "metadata": {},
   "outputs": [],
   "source": [
    "def feedback(guess):\n",
    "    \"\"\"Return the feedback to give the user whose guess is the argument\"\"\"\n",
    "    # Your code here\n",
    "# And the loop here\n"
   ]
  },
  {
   "cell_type": "markdown",
   "metadata": {},
   "source": [
    "### Now the computer will guess the number\n",
    "#### Brute force"
   ]
  },
  {
   "cell_type": "code",
   "execution_count": 6,
   "metadata": {},
   "outputs": [],
   "source": [
    "# If it's stupid and it works, it ain't stupid"
   ]
  },
  {
   "cell_type": "markdown",
   "metadata": {},
   "source": [
    "#### Divide and conquer"
   ]
  },
  {
   "cell_type": "code",
   "execution_count": null,
   "metadata": {},
   "outputs": [],
   "source": [
    "# Try to be clever"
   ]
  }
 ],
 "metadata": {
  "kernelspec": {
   "display_name": "Python 3",
   "language": "python",
   "name": "python3"
  },
  "language_info": {
   "codemirror_mode": {
    "name": "ipython",
    "version": 3
   },
   "file_extension": ".py",
   "mimetype": "text/x-python",
   "name": "python",
   "nbconvert_exporter": "python",
   "pygments_lexer": "ipython3",
   "version": "3.8.5"
  }
 },
 "nbformat": 4,
 "nbformat_minor": 4
}
