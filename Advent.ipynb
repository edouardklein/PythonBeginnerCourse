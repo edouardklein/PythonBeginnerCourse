{
  "nbformat": 4,
  "nbformat_minor": 0,
  "metadata": {
    "colab": {
      "name": "Untitled",
      "provenance": [],
      "collapsed_sections": []
    },
    "kernelspec": {
      "name": "python3",
      "display_name": "Python 3"
    }
  },
  "cells": [
    {
      "cell_type": "code",
      "metadata": {
        "id": "9CjHxxWYSRI7"
      },
      "source": [
        "def right_floor(input_string):\n",
        "  answer = 0\n",
        "  for c in input_string:\n",
        "    if c == '(':\n",
        "      answer = answer + 1\n",
        "    else:\n",
        "      answer = answer - 1\n",
        "  return answer"
      ],
      "execution_count": null,
      "outputs": []
    },
    {
      "cell_type": "code",
      "metadata": {
        "id": "fWOfI391RrmV"
      },
      "source": [
        "assert right_floor('(())') == 0\n",
        "assert right_floor('()()') == 0\n",
        "assert right_floor('(((') == 3\n",
        "assert right_floor('(()(()(') == 3\n",
        "assert right_floor('))(((((') == 3\n",
        "assert right_floor('())') == -1\n",
        "assert right_floor('))(') == -1\n",
        "assert right_floor(')))') == -3\n",
        "assert right_floor(')())())') == -3"
      ],
      "execution_count": null,
      "outputs": []
    },
    {
      "cell_type": "code",
      "metadata": {
        "id": "qlDqM_o-SgNU"
      },
      "source": [
        "def right_floor(input_string):\n",
        "  return input_string.count('(') - input_string.count(')')"
      ],
      "execution_count": null,
      "outputs": []
    },
    {
      "cell_type": "code",
      "metadata": {
        "colab": {
          "base_uri": "https://localhost:8080/"
        },
        "id": "GJjzE5BUTZiS",
        "outputId": "b57d2295-cc0e-461c-e360-35ad4c5015ef"
      },
      "source": [
        "['a', 'b', 'c'] + ['d', \"e\", \"f\"]"
      ],
      "execution_count": null,
      "outputs": [
        {
          "output_type": "execute_result",
          "data": {
            "text/plain": [
              "['a', 'b', 'c', 'd', 'e', 'f']"
            ]
          },
          "metadata": {
            "tags": []
          },
          "execution_count": 10
        }
      ]
    },
    {
      "cell_type": "code",
      "metadata": {
        "colab": {
          "base_uri": "https://localhost:8080/"
        },
        "id": "0lE05E8uTd8V",
        "outputId": "4776f7c7-b454-472e-ecd0-e8048f6c84be"
      },
      "source": [
        "def turn_to_int(step):\n",
        "  \"Left is minus one, right plus one\"\n",
        "  if step.startswith('L'):\n",
        "    return -1\n",
        "  elif step.startswith('R'):\n",
        "    return 1\n",
        "  else:\n",
        "    raise ValueError()\n",
        "\n",
        "CARDINAL_DIRECTIONS = [\"North\", \"East\", \"South\", \"West\"]\n",
        "\n",
        "def new_dir(direction, step):\n",
        "  new_dir_index = (CARDINAL_DIRECTIONS.index(direction) + turn_to_int(step)) % 4\n",
        "  return CARDINAL_DIRECTIONS[new_dir_index]\n",
        "\n",
        "assert new_dir(\"North\", \"L2\") == \"West\"\n",
        "assert new_dir(\"South\", \"L2\") == \"East\"\n",
        "assert new_dir(\"North\", \"R2\") == \"East\"\n",
        "\n",
        "def go_north(position, step_size):\n",
        "  \"\"\"Return the new position after we go step size to the North\"\"\"\n",
        "  return [position[0]+step_size, position[1]]\n",
        "\n",
        "MOVES = {\n",
        "    \"North\": go_north,\n",
        "    \"South\": lambda pos, s: [pos[0]-s, pos[1]],\n",
        "    \"West\": lambda pos, s: [pos[0], pos[1]-s],\n",
        "    \"East\": lambda pos, s: [pos[0], pos[1]+s],\n",
        "}\n",
        "\n",
        "def new_pos(position, direction, step):\n",
        "  nb_steps = int(step[1:])\n",
        "  return MOVES[direction](position, nb_steps)\n",
        "  \n",
        "\n",
        "def one_step(direction, position, step):\n",
        "  new_direction = new_dir(direction, step)\n",
        "  new_position = new_pos(position, new_direction, step)\n",
        "  return new_direction, new_position\n",
        "\n",
        "def bunny_hq_dist(instruction_string):\n",
        "  position = [0, 0]\n",
        "  direction = \"North\"\n",
        "  for step in instruction_string.split(\",\"):\n",
        "    step = step.strip()\n",
        "    print(position, direction, step)\n",
        "    direction, position = one_step(direction, position, step)\n",
        "    print(position, direction)\n",
        "    print()\n",
        "  return abs(position[0]) + abs(position[1])\n",
        "\n",
        "assert bunny_hq_dist('R2, L3') == 5\n",
        "assert bunny_hq_dist('R2, R2, R2') == 2\n",
        "assert bunny_hq_dist('R5, L5, R5, R3') == 12"
      ],
      "execution_count": 3,
      "outputs": [
        {
          "output_type": "stream",
          "text": [
            "[0, 0] North R2\n",
            "[0, 2] East\n",
            "\n",
            "[0, 2] East L3\n",
            "[3, 2] North\n",
            "\n",
            "[0, 0] North R2\n",
            "[0, 2] East\n",
            "\n",
            "[0, 2] East R2\n",
            "[-2, 2] South\n",
            "\n",
            "[-2, 2] South R2\n",
            "[-2, 0] West\n",
            "\n",
            "[0, 0] North R5\n",
            "[0, 5] East\n",
            "\n",
            "[0, 5] East L5\n",
            "[5, 5] North\n",
            "\n",
            "[5, 5] North R5\n",
            "[5, 10] East\n",
            "\n",
            "[5, 10] East R3\n",
            "[2, 10] South\n",
            "\n"
          ],
          "name": "stdout"
        }
      ]
    },
    {
      "cell_type": "code",
      "metadata": {
        "id": "149jgaP3XqZ0"
      },
      "source": [
        "CARDINAL_DIRECTIONS = [\"North\", \"East\", \"South\", \"West\"]\n"
      ],
      "execution_count": null,
      "outputs": []
    },
    {
      "cell_type": "code",
      "metadata": {
        "colab": {
          "base_uri": "https://localhost:8080/"
        },
        "id": "OS_cP_VNXq7P",
        "outputId": "93f79e6c-a7cb-43c0-ba03-c7e4d62d558a"
      },
      "source": [
        "CARDINAL_DIRECTIONS.index('East')"
      ],
      "execution_count": null,
      "outputs": [
        {
          "output_type": "execute_result",
          "data": {
            "text/plain": [
              "1"
            ]
          },
          "metadata": {
            "tags": []
          },
          "execution_count": 20
        }
      ]
    },
    {
      "cell_type": "code",
      "metadata": {
        "id": "cno6sleEXsZm"
      },
      "source": [
        "def turn_to_int(step):\n",
        "  \"Left is minus one, right plus one\"\n",
        "  if step.startswith('L'):\n",
        "    return -1\n",
        "  elif step.startswith('R'):\n",
        "    return 1\n",
        "  else:\n",
        "    raise ValueError()\n",
        "\n",
        "CARDINAL_DIRECTIONS = [\"North\", \"East\", \"South\", \"West\"]\n",
        "\n",
        "def new_dir(direction, step):\n",
        "  new_dir_index = (CARDINAL_DIRECTIONS.index(direction) + turn_to_int(step)) % 4\n",
        "  return CARDINAL_DIRECTIONS[new_dir_index]\n",
        "\n",
        "assert new_dir(\"North\", \"L2\") == \"West\"\n",
        "assert new_dir(\"South\", \"L2\") == \"East\"\n",
        "assert new_dir(\"North\", \"R2\") == \"East\""
      ],
      "execution_count": null,
      "outputs": []
    },
    {
      "cell_type": "code",
      "metadata": {
        "id": "tH6y8HrYZAR8"
      },
      "source": [
        ""
      ],
      "execution_count": null,
      "outputs": []
    }
  ]
}