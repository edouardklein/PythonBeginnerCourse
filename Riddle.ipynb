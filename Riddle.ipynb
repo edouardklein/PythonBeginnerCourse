{
  "nbformat": 4,
  "nbformat_minor": 0,
  "metadata": {
    "colab": {
      "name": "Untitled5.ipynb",
      "provenance": []
    },
    "kernelspec": {
      "name": "python3",
      "display_name": "Python 3"
    }
  },
  "cells": [
    {
      "cell_type": "markdown",
      "metadata": {
        "id": "JliOs8Qur5Hl"
      },
      "source": [
        "# A tale of two guards\n",
        "\n",
        "You are before two gates. Behind one is a treasure, behind the other is a monster that will eat you. You don't know which is which."
      ]
    },
    {
      "cell_type": "code",
      "metadata": {
        "id": "_CWhDcSMr3gW"
      },
      "source": [
        "import random\n",
        "left_gate, right_gate = random.choice([[\"Monster\", \"Treasure\"], [\"Treasure\", \"Monster\"]])"
      ],
      "execution_count": 1,
      "outputs": []
    },
    {
      "cell_type": "markdown",
      "metadata": {
        "id": "UAirfE_ayXTo"
      },
      "source": [
        "Before each gate is a guard. One always lies and one always tells the truth. You don't know which is which.\n",
        "\n",
        "---\n",
        "\n"
      ]
    },
    {
      "cell_type": "code",
      "metadata": {
        "id": "WYtM6NZCyWlT"
      },
      "source": [
        "def liar(x):\n",
        "  assert type(x) == bool, \"You can only ask Yes/No questions to the guards\"\n",
        "  return not x\n",
        "\n",
        "def honnest(x):\n",
        "  assert type(x) == bool, \"You can only ask Yes/No questions to the guards\"\n",
        "  return x\n",
        "\n",
        "left_guard, right_guard = random.choice([[liar, honnest], [honnest, liar]])"
      ],
      "execution_count": 2,
      "outputs": []
    },
    {
      "cell_type": "markdown",
      "metadata": {
        "id": "0UXS1si2y3Ac"
      },
      "source": [
        "Can you guess behind which door lies the treasure by asking a single question to one of the guards ? /i.e./ calling `left_guard` or `right_guard`."
      ]
    },
    {
      "cell_type": "code",
      "metadata": {
        "id": "6kbikUp-y2Tz"
      },
      "source": [
        ""
      ],
      "execution_count": 4,
      "outputs": []
    },
    {
      "cell_type": "code",
      "metadata": {
        "id": "qEAtSwe_zRfp"
      },
      "source": [
        ""
      ],
      "execution_count": 4,
      "outputs": []
    },
    {
      "cell_type": "code",
      "metadata": {
        "id": "LfKE-H8ozV_Q"
      },
      "source": [
        ""
      ],
      "execution_count": null,
      "outputs": []
    }
  ]
}