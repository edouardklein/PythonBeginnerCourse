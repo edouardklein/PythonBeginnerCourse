{
 "cells": [
  {
   "cell_type": "markdown",
   "id": "257061f1",
   "metadata": {},
   "source": [
    "# Some snippets of code I demonstrated in class, in no particular order\n",
    "## `defaultdict`\n",
    "Defaultdict allow you to specify a default value in cases that would have raised a `KeyError` on a normal dict."
   ]
  },
  {
   "cell_type": "code",
   "execution_count": 3,
   "id": "d2d44d5d",
   "metadata": {},
   "outputs": [],
   "source": [
    "from collections import defaultdict\n",
    "bonus_points = defaultdict(lambda : 0)\n",
    "# The following works as expected instead of raising a KeyError\n",
    "bonus_points['B00804592'] = bonus_points['B00804592'] + 1"
   ]
  },
  {
   "cell_type": "code",
   "execution_count": null,
   "id": "f085eaad",
   "metadata": {},
   "outputs": [],
   "source": []
  }
 ],
 "metadata": {
  "kernelspec": {
   "display_name": "Python 3 (ipykernel)",
   "language": "/gnu/store/qar3sks5fwzm91bl3d3ngyrvxs7ipj5z-python-3.9.9/bin/python3",
   "name": "python3"
  },
  "language_info": {
   "codemirror_mode": {
    "name": "ipython",
    "version": 3
   },
   "file_extension": ".py",
   "mimetype": "text/x-python",
   "name": "python",
   "nbconvert_exporter": "python",
   "pygments_lexer": "ipython3",
   "version": "3.9.9"
  }
 },
 "nbformat": 4,
 "nbformat_minor": 5
}
