{
 "cells": [
  {
   "cell_type": "code",
   "execution_count": 7,
   "id": "17256970",
   "metadata": {},
   "outputs": [
    {
     "data": {
      "text/plain": [
       "['8EABAD01-2DF1-4C5B-9B97-2BBEBBC98642',\n",
       " '0542B578-661E-448C-AAF5-2B3FAF5EACDF',\n",
       " 'B493E03A-68F1-4AF9-9067-A20F082F63C0',\n",
       " '4B67F736-5BE7-4506-9407-00E5F355B676',\n",
       " 'CA963984-7FC1-4433-AEDF-63D501F8F5E6',\n",
       " '827F2782-9522-4BFB-AFB8-729262F190E4',\n",
       " '7C55F290-E1C9-430C-AD46-CF09C95CBFCA',\n",
       " 'B1468110-699C-47A6-B627-FB331EAF8EBD',\n",
       " 'E742F359-F266-4F86-85DD-0E78980D808B',\n",
       " 'E16961E0-3FBF-4CEB-8796-B7259E8CBDC5',\n",
       " '07EC4087-1A14-4262-9884-21C4DDFFF88E',\n",
       " 'B5937836-5EA2-486D-90E2-2268F2F47694',\n",
       " '8914620F-71E2-4149-A2A5-D5B71DCED7AF',\n",
       " '7C064A18-8763-4474-A1C8-F1EEDFF84840',\n",
       " '2CFE0504-3EED-41C4-8B88-236AB0137925',\n",
       " '8CBA783D-C802-4A4A-ABFA-F4732A1D8F8A',\n",
       " '219326C2-16B8-40E4-A5DF-BC3586F2D52A',\n",
       " 'A2E48AC9-191B-4733-AB95-031861F75B26',\n",
       " '22DC4FE9-7459-40B1-9CA9-9E82673E716A',\n",
       " '66C19966-2E62-4E09-AAFE-C294F09CF73B',\n",
       " '90D665A2-95D2-409D-8903-00AF8ADD0A31',\n",
       " '78C80A69-9A0C-4E2E-B1AD-E9B4292BDAEE',\n",
       " 'A00D8D5F-8A7B-4385-8371-8B6D721466EA',\n",
       " '5969F666-8EF5-4B19-9DB6-14BC72709C93',\n",
       " 'A09C0308-B15F-4AB6-A11C-770687004F3A',\n",
       " 'E2AF8B2C-7275-450A-94F8-9D64C1AE5214',\n",
       " 'C69F8DD0-A000-47E2-ACF9-B03ADA9C5B00',\n",
       " '0238A120-09CC-4791-911A-72A88FD460DA',\n",
       " 'C85A327D-B6A4-41DA-B062-7E54DB284967',\n",
       " '667D3012-64EA-4280-82A0-D030FB48198C',\n",
       " '94B7D870-AAB6-41B4-9BB0-F636CFDD8D21',\n",
       " '2B09837D-979A-4F95-A8A5-427302B1B38A',\n",
       " '0D7E29E2-AF43-4953-B10E-CC9FD71D9CAF',\n",
       " 'EEBB3C9A-CAF7-48DA-AA43-920A174A52C1',\n",
       " '67FEC203-7C6A-4E29-9459-5157B4717DA3',\n",
       " 'DB37FDCF-DC55-4224-848A-5F5FA704DB39',\n",
       " '31946571-ECAD-4408-BB11-3A92FFF6B3FC',\n",
       " 'DA955918-AB71-44C7-A626-5A64EA62546A',\n",
       " '0F1BC9E0-CBAA-4780-A96A-ACEF5CF88BF5',\n",
       " 'D9696AE5-1A55-444C-AA68-0DCF8ABF15C0',\n",
       " 'D46C2743-4BE9-4002-9C80-4590B3715CFD',\n",
       " '81F2545E-8C88-4CB3-AB31-BF95F032B1BC',\n",
       " 'F6285D40-FAD7-4AD6-9481-D11744E8901A',\n",
       " 'F059F9FC-DC50-4269-BB30-0CAE5241C639',\n",
       " '2F7D29E7-6483-4313-8E07-8357C640169A',\n",
       " '16574523-04ED-4BD2-B3B1-366CAB004655',\n",
       " '627E98BC-10A2-4ADC-9EED-B42B81671B93',\n",
       " 'D2186592-6A19-4D04-938B-ABD59734360D',\n",
       " 'DB7160C1-6121-4732-AC50-040142AAEBEB',\n",
       " 'ACFBC7A4-3222-4091-A823-1D0B6745CE8E',\n",
       " '9D03008F-08E4-45CF-A303-95C6319BACB5',\n",
       " '6FDC0E70-9093-4056-8749-16DA7E7C55DE',\n",
       " '8E7580A2-700E-47B2-945D-23E2FDAFD56E',\n",
       " 'C5291E8B-AD8C-4CB4-B348-09492A1D2DE1',\n",
       " 'A04021A5-48E4-4268-A48B-E6503FAAE7A5',\n",
       " 'A1B50D5E-C9A1-4E72-ACD0-D15E20F04B73',\n",
       " 'BF9FEA84-1A42-4C51-A786-FC0C86137D60',\n",
       " 'A9387A0B-F441-4EB0-AEE9-269339BEB4FB',\n",
       " 'C7307EB0-DB2D-4E8D-87E1-C52847C5DF6A',\n",
       " 'D39D97A7-65AF-43AC-9939-CF4446156C7D',\n",
       " 'BADAD280-A9F9-497A-8812-D5BF3717A66A',\n",
       " '9CCE22C0-8E5F-4225-AA57-3A0C09B45945',\n",
       " '18A9E315-33FA-4C84-91AF-85F5C9D587CF']"
      ]
     },
     "execution_count": 7,
     "metadata": {},
     "output_type": "execute_result"
    }
   ],
   "source": [
    "lines = open(\"exam.log\").readlines()\n",
    "plusone_tokens = [l.split()[-1] for l in lines if \"Right answer\" in l]\n",
    "plusone_tokens"
   ]
  },
  {
   "cell_type": "code",
   "execution_count": 12,
   "id": "bfc0b3fb",
   "metadata": {},
   "outputs": [],
   "source": [
    "token2id = {l.split()[9]:l.split()[-1] for l in lines if \"Successful login\" in l}"
   ]
  },
  {
   "cell_type": "code",
   "execution_count": 17,
   "id": "299450d8",
   "metadata": {},
   "outputs": [
    {
     "data": {
      "text/plain": [
       "{'B00775430': 0,\n",
       " 'B00804542': 0,\n",
       " 'B00804595': 0,\n",
       " 'B00782160': 0,\n",
       " 'B00794809': 0,\n",
       " 'B00794813': 0,\n",
       " 'B00783887': 0,\n",
       " 'B00740524': 0,\n",
       " 'B00804593': 0,\n",
       " 'B00804786': 0,\n",
       " 'B00804540': 0,\n",
       " 'B00803748': 0,\n",
       " 'B00784933': 0,\n",
       " 'toto': 0,\n",
       " 'B00802193': 0,\n",
       " 'B00802258': 0,\n",
       " 'B00804592': 0,\n",
       " 'B00804594': 0,\n",
       " 'B00779245': 0,\n",
       " 'B00782006': 0,\n",
       " 'B00786798': 0,\n",
       " 'B00786463': 0,\n",
       " 'B00804578': 0,\n",
       " 'B00799113': 0,\n",
       " 'B00804610': 0,\n",
       " 'B00802816': 0,\n",
       " 'B00769218': 0,\n",
       " 'B00755616': 0,\n",
       " 'B00804590': 0,\n",
       " 'B00798698': 0,\n",
       " 'B00794817': 0,\n",
       " 'B00804308': 0,\n",
       " 'B00803363': 0,\n",
       " 'B00798723': 0,\n",
       " 'B00794715': 0,\n",
       " 'B00804549': 0,\n",
       " 'B00805767': 0,\n",
       " 'B00803705': 0,\n",
       " 'B00798794': 0,\n",
       " 'B00788949': 0}"
      ]
     },
     "execution_count": 17,
     "metadata": {},
     "output_type": "execute_result"
    }
   ],
   "source": [
    "IDs = set(l.split()[-1] for l in lines if \"Successful login\" in l)\n",
    "grades = {i:0 for i in IDs}\n",
    "grades"
   ]
  },
  {
   "cell_type": "code",
   "execution_count": 18,
   "id": "4111a5cb",
   "metadata": {},
   "outputs": [
    {
     "data": {
      "text/plain": [
       "{'B00775430': 1,\n",
       " 'B00804542': 3,\n",
       " 'B00804595': 1,\n",
       " 'B00782160': 2,\n",
       " 'B00794809': 2,\n",
       " 'B00794813': 3,\n",
       " 'B00783887': 0,\n",
       " 'B00740524': 0,\n",
       " 'B00804593': 1,\n",
       " 'B00804786': 1,\n",
       " 'B00804540': 1,\n",
       " 'B00803748': 1,\n",
       " 'B00784933': 2,\n",
       " 'toto': 2,\n",
       " 'B00802193': 2,\n",
       " 'B00802258': 0,\n",
       " 'B00804592': 2,\n",
       " 'B00804594': 2,\n",
       " 'B00779245': 3,\n",
       " 'B00782006': 0,\n",
       " 'B00786798': 2,\n",
       " 'B00786463': 2,\n",
       " 'B00804578': 1,\n",
       " 'B00799113': 2,\n",
       " 'B00804610': 1,\n",
       " 'B00802816': 2,\n",
       " 'B00769218': 1,\n",
       " 'B00755616': 1,\n",
       " 'B00804590': 2,\n",
       " 'B00798698': 2,\n",
       " 'B00794817': 3,\n",
       " 'B00804308': 1,\n",
       " 'B00803363': 2,\n",
       " 'B00798723': 2,\n",
       " 'B00794715': 2,\n",
       " 'B00804549': 1,\n",
       " 'B00805767': 3,\n",
       " 'B00803705': 1,\n",
       " 'B00798794': 2,\n",
       " 'B00788949': 1}"
      ]
     },
     "execution_count": 18,
     "metadata": {},
     "output_type": "execute_result"
    }
   ],
   "source": [
    "for token in plusone_tokens:\n",
    "    grades[token2id[token]] += 1\n",
    "grades"
   ]
  },
  {
   "cell_type": "code",
   "execution_count": 19,
   "id": "f6025b17",
   "metadata": {},
   "outputs": [
    {
     "name": "stdout",
     "output_type": "stream",
     "text": [
      "#S(EXAM.WEB::EXAM :ID \"B00775430\" :GRADE 1)\n",
      "#S(EXAM.WEB::EXAM :ID \"B00804542\" :GRADE 3)\n",
      "#S(EXAM.WEB::EXAM :ID \"B00804595\" :GRADE 1)\n",
      "#S(EXAM.WEB::EXAM :ID \"B00782160\" :GRADE 2)\n",
      "#S(EXAM.WEB::EXAM :ID \"B00794809\" :GRADE 2)\n",
      "#S(EXAM.WEB::EXAM :ID \"B00794813\" :GRADE 3)\n",
      "#S(EXAM.WEB::EXAM :ID \"B00783887\" :GRADE 0)\n",
      "#S(EXAM.WEB::EXAM :ID \"B00740524\" :GRADE 0)\n",
      "#S(EXAM.WEB::EXAM :ID \"B00804593\" :GRADE 1)\n",
      "#S(EXAM.WEB::EXAM :ID \"B00804786\" :GRADE 1)\n",
      "#S(EXAM.WEB::EXAM :ID \"B00804540\" :GRADE 1)\n",
      "#S(EXAM.WEB::EXAM :ID \"B00803748\" :GRADE 1)\n",
      "#S(EXAM.WEB::EXAM :ID \"B00784933\" :GRADE 2)\n",
      "#S(EXAM.WEB::EXAM :ID \"toto\" :GRADE 2)\n",
      "#S(EXAM.WEB::EXAM :ID \"B00802193\" :GRADE 2)\n",
      "#S(EXAM.WEB::EXAM :ID \"B00802258\" :GRADE 0)\n",
      "#S(EXAM.WEB::EXAM :ID \"B00804592\" :GRADE 2)\n",
      "#S(EXAM.WEB::EXAM :ID \"B00804594\" :GRADE 2)\n",
      "#S(EXAM.WEB::EXAM :ID \"B00779245\" :GRADE 3)\n",
      "#S(EXAM.WEB::EXAM :ID \"B00782006\" :GRADE 0)\n",
      "#S(EXAM.WEB::EXAM :ID \"B00786798\" :GRADE 2)\n",
      "#S(EXAM.WEB::EXAM :ID \"B00786463\" :GRADE 2)\n",
      "#S(EXAM.WEB::EXAM :ID \"B00804578\" :GRADE 1)\n",
      "#S(EXAM.WEB::EXAM :ID \"B00799113\" :GRADE 2)\n",
      "#S(EXAM.WEB::EXAM :ID \"B00804610\" :GRADE 1)\n",
      "#S(EXAM.WEB::EXAM :ID \"B00802816\" :GRADE 2)\n",
      "#S(EXAM.WEB::EXAM :ID \"B00769218\" :GRADE 1)\n",
      "#S(EXAM.WEB::EXAM :ID \"B00755616\" :GRADE 1)\n",
      "#S(EXAM.WEB::EXAM :ID \"B00804590\" :GRADE 2)\n",
      "#S(EXAM.WEB::EXAM :ID \"B00798698\" :GRADE 2)\n",
      "#S(EXAM.WEB::EXAM :ID \"B00794817\" :GRADE 3)\n",
      "#S(EXAM.WEB::EXAM :ID \"B00804308\" :GRADE 1)\n",
      "#S(EXAM.WEB::EXAM :ID \"B00803363\" :GRADE 2)\n",
      "#S(EXAM.WEB::EXAM :ID \"B00798723\" :GRADE 2)\n",
      "#S(EXAM.WEB::EXAM :ID \"B00794715\" :GRADE 2)\n",
      "#S(EXAM.WEB::EXAM :ID \"B00804549\" :GRADE 1)\n",
      "#S(EXAM.WEB::EXAM :ID \"B00805767\" :GRADE 3)\n",
      "#S(EXAM.WEB::EXAM :ID \"B00803705\" :GRADE 1)\n",
      "#S(EXAM.WEB::EXAM :ID \"B00798794\" :GRADE 2)\n",
      "#S(EXAM.WEB::EXAM :ID \"B00788949\" :GRADE 1)\n"
     ]
    }
   ],
   "source": [
    "for i, g in grades.items():\n",
    "    print(f'#S(EXAM.WEB::EXAM :ID \"{i}\" :GRADE {g})')"
   ]
  },
  {
   "cell_type": "code",
   "execution_count": null,
   "id": "f65d10b3",
   "metadata": {},
   "outputs": [],
   "source": []
  }
 ],
 "metadata": {
  "kernelspec": {
   "display_name": "Python 3 (ipykernel)",
   "language": "/gnu/store/qar3sks5fwzm91bl3d3ngyrvxs7ipj5z-python-3.9.9/bin/python3",
   "name": "python3"
  },
  "language_info": {
   "codemirror_mode": {
    "name": "ipython",
    "version": 3
   },
   "file_extension": ".py",
   "mimetype": "text/x-python",
   "name": "python",
   "nbconvert_exporter": "python",
   "pygments_lexer": "ipython3",
   "version": "3.9.9"
  }
 },
 "nbformat": 4,
 "nbformat_minor": 5
}
